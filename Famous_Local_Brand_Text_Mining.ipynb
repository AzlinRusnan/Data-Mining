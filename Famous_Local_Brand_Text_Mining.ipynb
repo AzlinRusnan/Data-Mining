{
  "nbformat": 4,
  "nbformat_minor": 0,
  "metadata": {
    "colab": {
      "provenance": [],
      "authorship_tag": "ABX9TyMXyY/8TEPNeGVca9097Uin",
      "include_colab_link": true
    },
    "kernelspec": {
      "name": "ir",
      "display_name": "R"
    },
    "language_info": {
      "name": "R"
    }
  },
  "cells": [
    {
      "cell_type": "markdown",
      "metadata": {
        "id": "view-in-github",
        "colab_type": "text"
      },
      "source": [
        "<a href=\"https://colab.research.google.com/github/AzlinRusnan/Data-Mining/blob/main/Famous_Local_Brand_Text_Mining.ipynb\" target=\"_parent\"><img src=\"https://colab.research.google.com/assets/colab-badge.svg\" alt=\"Open In Colab\"/></a>"
      ]
    },
    {
      "cell_type": "markdown",
      "source": [
        "##**Comparative Analysis of Baju Kurung on RR BY Rizman Ruzaini Website**"
      ],
      "metadata": {
        "id": "8BbRdBJba0PX"
      }
    },
    {
      "cell_type": "markdown",
      "source": [
        "*Traditional attire is the canvas of a culture's history, painted with the colors of heritage and woven with the threads of legacy.*"
      ],
      "metadata": {
        "id": "aQMavPtObCuS"
      }
    },
    {
      "cell_type": "markdown",
      "source": [
        "![busana.jpg](data:image/jpeg;base64,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)"
      ],
      "metadata": {
        "id": "RMU_RPL7cB98"
      }
    },
    {
      "cell_type": "markdown",
      "source": [
        "The month of Hari Raya or Eid Fitr is almost over, but the festive mood continues as I write this article on the 7th May 2024 (28th of Syawal in the year of 1445 Hijri). As we flashback to the final days of Ramadan, we were filled with excitement for the coming Hari Raya celebrations in addition to the respect of fasting. The preparations were extensive, from planning the lavish Hari Raya feast to choosing the ideal “Gala Raya” outfit, which is one of the most enjoyable activities for many women. Hari Raya is a special day that we celebrate in style, bringing joy and happiness after one month of fasting.\n",
        "\n",
        "\n",
        "In the world of internet-based fashion sales, understanding product offering and pricing strategies provides invaluable insights into customer preferences and market trends, particularly as they relate to the festive occasion like Hari Raya. This report analyses the first three pages of product listing from the Rizman Ruzaini website (https://www.rrbyrizmanruzaini.com/) on women’s wear. In their latest Hari Raya collection, Rizman Ruzaini continues to preserve the beautiful Malay culture, featuring a range of women’s attire including “Kurung Moden”, “Kurung Pahang”, “Kurung Kedah” and basic wear.\n",
        "\n",
        "\n",
        "For this report we are focusing specifically on two categories, “Kurung Pahang” and “Kurung Moden”. This mainly because \"Kurung Pahang\" represents a more traditional approach, while \"Kurung Moden \" often incorporates modern design elements, appealing to different customer. Also, by comparing these two categories helps highlight how different categories within the same product can have varied pricing strategies. The data for this analysis was extracted using SelectorGadjet, and organized to capture key variables such as Product, Price Before Sale, Price After Sale and Category. The Analysis was performed using the R programming language.\n"
      ],
      "metadata": {
        "id": "RRDeGP7nccUf"
      }
    },
    {
      "cell_type": "code",
      "execution_count": 3,
      "metadata": {
        "id": "4ySDnolNSUx0",
        "outputId": "27578b09-59ff-48e2-e41e-7e6ebea0769c",
        "colab": {
          "base_uri": "https://localhost:8080/"
        }
      },
      "outputs": [
        {
          "output_type": "stream",
          "name": "stderr",
          "text": [
            "\n",
            "Attaching package: ‘dplyr’\n",
            "\n",
            "\n",
            "The following objects are masked from ‘package:stats’:\n",
            "\n",
            "    filter, lag\n",
            "\n",
            "\n",
            "The following objects are masked from ‘package:base’:\n",
            "\n",
            "    intersect, setdiff, setequal, union\n",
            "\n",
            "\n"
          ]
        }
      ],
      "source": [
        "library(rvest)\n",
        "library(dplyr)\n",
        "library(stringr)"
      ]
    },
    {
      "cell_type": "code",
      "source": [
        "pages <- paste0('https://www.rrbyrizmanruzaini.com/collections/rr-womenswear?page=', 0:2)"
      ],
      "metadata": {
        "id": "agZGkTudTBGF"
      },
      "execution_count": null,
      "outputs": []
    },
    {
      "cell_type": "code",
      "source": [
        "# Function to determine the category based on the product name\n",
        "get_category <- function(product_name) {\n",
        "  if (grepl(\"Kurung Pahang\", product_name)) {\n",
        "    \"Kurung Pahang\"\n",
        "  } else if (grepl(\"Kurung Modern\", product_name)) {\n",
        "    \"Kurung Moden\"\n",
        "  } else if (grepl(\"Kurung Kedah\", product_name)) {\n",
        "    \"Kurung Kedah\"\n",
        "  } else if (grepl(\"Set Basic\", product_name)) {\n",
        "    \"Set Basic\"\n",
        "  } else {\n",
        "    \"Other\"\n",
        "  }\n",
        "}"
      ],
      "metadata": {
        "id": "RMXA_DidTD8s"
      },
      "execution_count": null,
      "outputs": []
    },
    {
      "cell_type": "code",
      "source": [
        "# Function to scrape product names, before sale prices, and after sale prices\n",
        "Price <- function(page) {\n",
        "  url <- read_html(page)\n",
        "\n",
        "  # Extracting product names\n",
        "  product_nodes <- html_nodes(url, '.grid-product__title') # Adjust if needed\n",
        "  products <- html_text(product_nodes, trim = TRUE)\n",
        "\n",
        "  # Extracting prices\n",
        "  price_nodes <- html_nodes(url, '.grid-product__price')\n",
        "  prices <- html_text(price_nodes, trim = TRUE)\n",
        "\n",
        "  # Clean and extract before and after sale prices\n",
        "  prices_before_sale <- sapply(prices, function(x) {\n",
        "    if (grepl(\"Regular price\", x)) {\n",
        "      sub(\"Regular price\\\\s+RM\\\\s*\", \"\", str_extract(x, \"Regular price\\\\s+RM\\\\s*[0-9,.]+\"))\n",
        "    } else {\n",
        "      NA\n",
        "    }\n",
        "  })\n",
        "  prices_after_sale <- sapply(prices, function(x) {\n",
        "    if (grepl(\"Sale price\", x)) {\n",
        "      sub(\"Sale priceRM\\\\s*\", \"\", str_extract(x, \"Sale priceRM\\\\s*[0-9,.]+\"))\n",
        "    } else {\n",
        "      NA\n",
        "    }\n",
        "  })\n",
        "\n",
        "  # Determining the category for each product\n",
        "  categories <- sapply(products, get_category)\n",
        "\n",
        "  # Create a dataframe\n",
        "  data_frame(Product = products, PriceBeforeSale = prices_before_sale, PriceAfterSale = prices_after_sale, Category = categories)\n",
        "}"
      ],
      "metadata": {
        "id": "IHXyJzUkTKrd"
      },
      "execution_count": null,
      "outputs": []
    },
    {
      "cell_type": "code",
      "source": [
        "# Apply the function to each page and combine the results\n",
        "product_data <- do.call(rbind, lapply(pages, Price))\n",
        "head(product_data)"
      ],
      "metadata": {
        "colab": {
          "base_uri": "https://localhost:8080/",
          "height": 338
        },
        "id": "XW94XECnTMt8",
        "outputId": "42979ec9-378f-4ada-d48b-b8913696c262"
      },
      "execution_count": null,
      "outputs": [
        {
          "output_type": "stream",
          "name": "stderr",
          "text": [
            "Warning message:\n",
            "“\u001b[1m\u001b[22m`data_frame()` was deprecated in tibble 1.1.0.\n",
            "\u001b[36mℹ\u001b[39m Please use `tibble()` instead.”\n"
          ]
        },
        {
          "output_type": "display_data",
          "data": {
            "text/html": [
              "<table class=\"dataframe\">\n",
              "<caption>A tibble: 6 × 4</caption>\n",
              "<thead>\n",
              "\t<tr><th scope=col>Product</th><th scope=col>PriceBeforeSale</th><th scope=col>PriceAfterSale</th><th scope=col>Category</th></tr>\n",
              "\t<tr><th scope=col>&lt;chr&gt;</th><th scope=col>&lt;chr&gt;</th><th scope=col>&lt;chr&gt;</th><th scope=col>&lt;chr&gt;</th></tr>\n",
              "</thead>\n",
              "<tbody>\n",
              "\t<tr><td>RR Baju Kurung Pahang Songket in Navy Silver   </td><td>399.00</td><td>239.40</td><td>Kurung Pahang</td></tr>\n",
              "\t<tr><td>RR Baju Kurung Pahang Songket in Brown Black   </td><td>399.00</td><td>239.40</td><td>Kurung Pahang</td></tr>\n",
              "\t<tr><td>RR Baju Kurung Pahang Songket in Black Gold    </td><td>399.00</td><td>239.40</td><td>Kurung Pahang</td></tr>\n",
              "\t<tr><td>RR Baju Kurung Pahang Forest in Green          </td><td>399.00</td><td>239.40</td><td>Kurung Pahang</td></tr>\n",
              "\t<tr><td>RR Baju Kurung Pahang Forest in Brown          </td><td>399.00</td><td>239.40</td><td>Kurung Pahang</td></tr>\n",
              "\t<tr><td>RR Baju Kurung Modern Pleated Ivy in Light Blue</td><td>439.00</td><td>263.40</td><td>Kurung Moden </td></tr>\n",
              "</tbody>\n",
              "</table>\n"
            ],
            "text/markdown": "\nA tibble: 6 × 4\n\n| Product &lt;chr&gt; | PriceBeforeSale &lt;chr&gt; | PriceAfterSale &lt;chr&gt; | Category &lt;chr&gt; |\n|---|---|---|---|\n| RR Baju Kurung Pahang Songket in Navy Silver    | 399.00 | 239.40 | Kurung Pahang |\n| RR Baju Kurung Pahang Songket in Brown Black    | 399.00 | 239.40 | Kurung Pahang |\n| RR Baju Kurung Pahang Songket in Black Gold     | 399.00 | 239.40 | Kurung Pahang |\n| RR Baju Kurung Pahang Forest in Green           | 399.00 | 239.40 | Kurung Pahang |\n| RR Baju Kurung Pahang Forest in Brown           | 399.00 | 239.40 | Kurung Pahang |\n| RR Baju Kurung Modern Pleated Ivy in Light Blue | 439.00 | 263.40 | Kurung Moden  |\n\n",
            "text/latex": "A tibble: 6 × 4\n\\begin{tabular}{llll}\n Product & PriceBeforeSale & PriceAfterSale & Category\\\\\n <chr> & <chr> & <chr> & <chr>\\\\\n\\hline\n\t RR Baju Kurung Pahang Songket in Navy Silver    & 399.00 & 239.40 & Kurung Pahang\\\\\n\t RR Baju Kurung Pahang Songket in Brown Black    & 399.00 & 239.40 & Kurung Pahang\\\\\n\t RR Baju Kurung Pahang Songket in Black Gold     & 399.00 & 239.40 & Kurung Pahang\\\\\n\t RR Baju Kurung Pahang Forest in Green           & 399.00 & 239.40 & Kurung Pahang\\\\\n\t RR Baju Kurung Pahang Forest in Brown           & 399.00 & 239.40 & Kurung Pahang\\\\\n\t RR Baju Kurung Modern Pleated Ivy in Light Blue & 439.00 & 263.40 & Kurung Moden \\\\\n\\end{tabular}\n",
            "text/plain": [
              "                                                Product                                        \n",
              "RR Baju Kurung Pahang Songket in Navy Silver    RR Baju Kurung Pahang Songket in Navy Silver   \n",
              "RR Baju Kurung Pahang Songket in Brown Black    RR Baju Kurung Pahang Songket in Brown Black   \n",
              "RR Baju Kurung Pahang Songket in Black Gold     RR Baju Kurung Pahang Songket in Black Gold    \n",
              "RR Baju Kurung Pahang Forest in Green           RR Baju Kurung Pahang Forest in Green          \n",
              "RR Baju Kurung Pahang Forest in Brown           RR Baju Kurung Pahang Forest in Brown          \n",
              "RR Baju Kurung Modern Pleated Ivy in Light Blue RR Baju Kurung Modern Pleated Ivy in Light Blue\n",
              "                                                PriceBeforeSale PriceAfterSale\n",
              "RR Baju Kurung Pahang Songket in Navy Silver    399.00          239.40        \n",
              "RR Baju Kurung Pahang Songket in Brown Black    399.00          239.40        \n",
              "RR Baju Kurung Pahang Songket in Black Gold     399.00          239.40        \n",
              "RR Baju Kurung Pahang Forest in Green           399.00          239.40        \n",
              "RR Baju Kurung Pahang Forest in Brown           399.00          239.40        \n",
              "RR Baju Kurung Modern Pleated Ivy in Light Blue 439.00          263.40        \n",
              "                                                Category     \n",
              "RR Baju Kurung Pahang Songket in Navy Silver    Kurung Pahang\n",
              "RR Baju Kurung Pahang Songket in Brown Black    Kurung Pahang\n",
              "RR Baju Kurung Pahang Songket in Black Gold     Kurung Pahang\n",
              "RR Baju Kurung Pahang Forest in Green           Kurung Pahang\n",
              "RR Baju Kurung Pahang Forest in Brown           Kurung Pahang\n",
              "RR Baju Kurung Modern Pleated Ivy in Light Blue Kurung Moden "
            ]
          },
          "metadata": {}
        }
      ]
    },
    {
      "cell_type": "code",
      "source": [
        "library(dplyr)\n",
        "library(ggplot2)\n",
        "library(RColorBrewer)"
      ],
      "metadata": {
        "id": "dZDz6RC_TocR"
      },
      "execution_count": 13,
      "outputs": []
    },
    {
      "cell_type": "code",
      "source": [
        "from google.colab import files\n",
        "uploaded = files.upload()"
      ],
      "metadata": {
        "id": "CtSrYVHYV-ib",
        "colab": {
          "base_uri": "https://localhost:8080/",
          "height": 73
        },
        "outputId": "c03ea1b8-a10d-4929-bf16-383eb6433715"
      },
      "execution_count": 1,
      "outputs": [
        {
          "output_type": "display_data",
          "data": {
            "text/plain": [
              "<IPython.core.display.HTML object>"
            ],
            "text/html": [
              "\n",
              "     <input type=\"file\" id=\"files-41d71127-27e4-46c2-a9d1-9dc3ec5ab252\" name=\"files[]\" multiple disabled\n",
              "        style=\"border:none\" />\n",
              "     <output id=\"result-41d71127-27e4-46c2-a9d1-9dc3ec5ab252\">\n",
              "      Upload widget is only available when the cell has been executed in the\n",
              "      current browser session. Please rerun this cell to enable.\n",
              "      </output>\n",
              "      <script>// Copyright 2017 Google LLC\n",
              "//\n",
              "// Licensed under the Apache License, Version 2.0 (the \"License\");\n",
              "// you may not use this file except in compliance with the License.\n",
              "// You may obtain a copy of the License at\n",
              "//\n",
              "//      http://www.apache.org/licenses/LICENSE-2.0\n",
              "//\n",
              "// Unless required by applicable law or agreed to in writing, software\n",
              "// distributed under the License is distributed on an \"AS IS\" BASIS,\n",
              "// WITHOUT WARRANTIES OR CONDITIONS OF ANY KIND, either express or implied.\n",
              "// See the License for the specific language governing permissions and\n",
              "// limitations under the License.\n",
              "\n",
              "/**\n",
              " * @fileoverview Helpers for google.colab Python module.\n",
              " */\n",
              "(function(scope) {\n",
              "function span(text, styleAttributes = {}) {\n",
              "  const element = document.createElement('span');\n",
              "  element.textContent = text;\n",
              "  for (const key of Object.keys(styleAttributes)) {\n",
              "    element.style[key] = styleAttributes[key];\n",
              "  }\n",
              "  return element;\n",
              "}\n",
              "\n",
              "// Max number of bytes which will be uploaded at a time.\n",
              "const MAX_PAYLOAD_SIZE = 100 * 1024;\n",
              "\n",
              "function _uploadFiles(inputId, outputId) {\n",
              "  const steps = uploadFilesStep(inputId, outputId);\n",
              "  const outputElement = document.getElementById(outputId);\n",
              "  // Cache steps on the outputElement to make it available for the next call\n",
              "  // to uploadFilesContinue from Python.\n",
              "  outputElement.steps = steps;\n",
              "\n",
              "  return _uploadFilesContinue(outputId);\n",
              "}\n",
              "\n",
              "// This is roughly an async generator (not supported in the browser yet),\n",
              "// where there are multiple asynchronous steps and the Python side is going\n",
              "// to poll for completion of each step.\n",
              "// This uses a Promise to block the python side on completion of each step,\n",
              "// then passes the result of the previous step as the input to the next step.\n",
              "function _uploadFilesContinue(outputId) {\n",
              "  const outputElement = document.getElementById(outputId);\n",
              "  const steps = outputElement.steps;\n",
              "\n",
              "  const next = steps.next(outputElement.lastPromiseValue);\n",
              "  return Promise.resolve(next.value.promise).then((value) => {\n",
              "    // Cache the last promise value to make it available to the next\n",
              "    // step of the generator.\n",
              "    outputElement.lastPromiseValue = value;\n",
              "    return next.value.response;\n",
              "  });\n",
              "}\n",
              "\n",
              "/**\n",
              " * Generator function which is called between each async step of the upload\n",
              " * process.\n",
              " * @param {string} inputId Element ID of the input file picker element.\n",
              " * @param {string} outputId Element ID of the output display.\n",
              " * @return {!Iterable<!Object>} Iterable of next steps.\n",
              " */\n",
              "function* uploadFilesStep(inputId, outputId) {\n",
              "  const inputElement = document.getElementById(inputId);\n",
              "  inputElement.disabled = false;\n",
              "\n",
              "  const outputElement = document.getElementById(outputId);\n",
              "  outputElement.innerHTML = '';\n",
              "\n",
              "  const pickedPromise = new Promise((resolve) => {\n",
              "    inputElement.addEventListener('change', (e) => {\n",
              "      resolve(e.target.files);\n",
              "    });\n",
              "  });\n",
              "\n",
              "  const cancel = document.createElement('button');\n",
              "  inputElement.parentElement.appendChild(cancel);\n",
              "  cancel.textContent = 'Cancel upload';\n",
              "  const cancelPromise = new Promise((resolve) => {\n",
              "    cancel.onclick = () => {\n",
              "      resolve(null);\n",
              "    };\n",
              "  });\n",
              "\n",
              "  // Wait for the user to pick the files.\n",
              "  const files = yield {\n",
              "    promise: Promise.race([pickedPromise, cancelPromise]),\n",
              "    response: {\n",
              "      action: 'starting',\n",
              "    }\n",
              "  };\n",
              "\n",
              "  cancel.remove();\n",
              "\n",
              "  // Disable the input element since further picks are not allowed.\n",
              "  inputElement.disabled = true;\n",
              "\n",
              "  if (!files) {\n",
              "    return {\n",
              "      response: {\n",
              "        action: 'complete',\n",
              "      }\n",
              "    };\n",
              "  }\n",
              "\n",
              "  for (const file of files) {\n",
              "    const li = document.createElement('li');\n",
              "    li.append(span(file.name, {fontWeight: 'bold'}));\n",
              "    li.append(span(\n",
              "        `(${file.type || 'n/a'}) - ${file.size} bytes, ` +\n",
              "        `last modified: ${\n",
              "            file.lastModifiedDate ? file.lastModifiedDate.toLocaleDateString() :\n",
              "                                    'n/a'} - `));\n",
              "    const percent = span('0% done');\n",
              "    li.appendChild(percent);\n",
              "\n",
              "    outputElement.appendChild(li);\n",
              "\n",
              "    const fileDataPromise = new Promise((resolve) => {\n",
              "      const reader = new FileReader();\n",
              "      reader.onload = (e) => {\n",
              "        resolve(e.target.result);\n",
              "      };\n",
              "      reader.readAsArrayBuffer(file);\n",
              "    });\n",
              "    // Wait for the data to be ready.\n",
              "    let fileData = yield {\n",
              "      promise: fileDataPromise,\n",
              "      response: {\n",
              "        action: 'continue',\n",
              "      }\n",
              "    };\n",
              "\n",
              "    // Use a chunked sending to avoid message size limits. See b/62115660.\n",
              "    let position = 0;\n",
              "    do {\n",
              "      const length = Math.min(fileData.byteLength - position, MAX_PAYLOAD_SIZE);\n",
              "      const chunk = new Uint8Array(fileData, position, length);\n",
              "      position += length;\n",
              "\n",
              "      const base64 = btoa(String.fromCharCode.apply(null, chunk));\n",
              "      yield {\n",
              "        response: {\n",
              "          action: 'append',\n",
              "          file: file.name,\n",
              "          data: base64,\n",
              "        },\n",
              "      };\n",
              "\n",
              "      let percentDone = fileData.byteLength === 0 ?\n",
              "          100 :\n",
              "          Math.round((position / fileData.byteLength) * 100);\n",
              "      percent.textContent = `${percentDone}% done`;\n",
              "\n",
              "    } while (position < fileData.byteLength);\n",
              "  }\n",
              "\n",
              "  // All done.\n",
              "  yield {\n",
              "    response: {\n",
              "      action: 'complete',\n",
              "    }\n",
              "  };\n",
              "}\n",
              "\n",
              "scope.google = scope.google || {};\n",
              "scope.google.colab = scope.google.colab || {};\n",
              "scope.google.colab._files = {\n",
              "  _uploadFiles,\n",
              "  _uploadFilesContinue,\n",
              "};\n",
              "})(self);\n",
              "</script> "
            ]
          },
          "metadata": {}
        },
        {
          "output_type": "stream",
          "name": "stdout",
          "text": [
            "Saving RizmanRuzaini.csv to RizmanRuzaini.csv\n"
          ]
        }
      ]
    },
    {
      "cell_type": "code",
      "source": [
        "product <- read.csv(\"RizmanRuzaini.csv\")"
      ],
      "metadata": {
        "id": "AkkMNC82Uf0m"
      },
      "execution_count": 5,
      "outputs": []
    },
    {
      "cell_type": "code",
      "source": [
        "##################################################\n",
        "        ## Analysis by Category ##\n",
        "##################################################\n",
        "categories_analysis_actual <- product %>%\n",
        "  filter(Category %in% c('Kurung Pahang', 'Kurung Moden')) %>%\n",
        "  group_by(Category) %>%\n",
        "  summarise(\n",
        "    Count = n(),\n",
        "    Average_PriceBeforeSale = mean(PriceBeforeSale, na.rm = TRUE),\n",
        "    Average_PriceAfterSale = mean(PriceAfterSale, na.rm = TRUE)\n",
        "  ) %>%\n",
        "  arrange(desc(Count))\n",
        "\n",
        "# Calculating the price reduction percentage\n",
        "categories_analysis_actual$Price_Reduction_Percent <- round(\n",
        "  (1 - (categories_analysis_actual$Average_PriceAfterSale / categories_analysis_actual$Average_PriceBeforeSale)) * 100, 2)\n",
        "\n",
        "head(categories_analysis_actual)\n"
      ],
      "metadata": {
        "id": "z_UTrPxfTuK5",
        "colab": {
          "base_uri": "https://localhost:8080/",
          "height": 161
        },
        "outputId": "727312a4-73b3-4ac3-9e70-18ade0a7cb3e"
      },
      "execution_count": 8,
      "outputs": [
        {
          "output_type": "display_data",
          "data": {
            "text/html": [
              "<table class=\"dataframe\">\n",
              "<caption>A tibble: 2 × 5</caption>\n",
              "<thead>\n",
              "\t<tr><th scope=col>Category</th><th scope=col>Count</th><th scope=col>Average_PriceBeforeSale</th><th scope=col>Average_PriceAfterSale</th><th scope=col>Price_Reduction_Percent</th></tr>\n",
              "\t<tr><th scope=col>&lt;chr&gt;</th><th scope=col>&lt;int&gt;</th><th scope=col>&lt;dbl&gt;</th><th scope=col>&lt;dbl&gt;</th><th scope=col>&lt;dbl&gt;</th></tr>\n",
              "</thead>\n",
              "<tbody>\n",
              "\t<tr><td>Kurung Moden </td><td>63</td><td>446.9365</td><td>268.1619</td><td>40.00</td></tr>\n",
              "\t<tr><td>Kurung Pahang</td><td>62</td><td>350.6129</td><td>217.1194</td><td>38.07</td></tr>\n",
              "</tbody>\n",
              "</table>\n"
            ],
            "text/markdown": "\nA tibble: 2 × 5\n\n| Category &lt;chr&gt; | Count &lt;int&gt; | Average_PriceBeforeSale &lt;dbl&gt; | Average_PriceAfterSale &lt;dbl&gt; | Price_Reduction_Percent &lt;dbl&gt; |\n|---|---|---|---|---|\n| Kurung Moden  | 63 | 446.9365 | 268.1619 | 40.00 |\n| Kurung Pahang | 62 | 350.6129 | 217.1194 | 38.07 |\n\n",
            "text/latex": "A tibble: 2 × 5\n\\begin{tabular}{lllll}\n Category & Count & Average\\_PriceBeforeSale & Average\\_PriceAfterSale & Price\\_Reduction\\_Percent\\\\\n <chr> & <int> & <dbl> & <dbl> & <dbl>\\\\\n\\hline\n\t Kurung Moden  & 63 & 446.9365 & 268.1619 & 40.00\\\\\n\t Kurung Pahang & 62 & 350.6129 & 217.1194 & 38.07\\\\\n\\end{tabular}\n",
            "text/plain": [
              "  Category      Count Average_PriceBeforeSale Average_PriceAfterSale\n",
              "1 Kurung Moden  63    446.9365                268.1619              \n",
              "2 Kurung Pahang 62    350.6129                217.1194              \n",
              "  Price_Reduction_Percent\n",
              "1 40.00                  \n",
              "2 38.07                  "
            ]
          },
          "metadata": {}
        }
      ]
    },
    {
      "cell_type": "code",
      "source": [
        "library(dplyr)\n",
        "library(ggplot2)\n",
        "library(RColorBrewer)\n",
        "library(tidyverse)"
      ],
      "metadata": {
        "colab": {
          "base_uri": "https://localhost:8080/"
        },
        "id": "eOEKWjJ2YlP9",
        "outputId": "fc264a7b-7194-4acb-c31e-332910965767"
      },
      "execution_count": 16,
      "outputs": [
        {
          "output_type": "stream",
          "name": "stderr",
          "text": [
            "── \u001b[1mAttaching core tidyverse packages\u001b[22m ──────────────────────── tidyverse 2.0.0 ──\n",
            "\u001b[32m✔\u001b[39m \u001b[34mforcats  \u001b[39m 1.0.0     \u001b[32m✔\u001b[39m \u001b[34mstringr  \u001b[39m 1.5.1\n",
            "\u001b[32m✔\u001b[39m \u001b[34mlubridate\u001b[39m 1.9.3     \u001b[32m✔\u001b[39m \u001b[34mtibble   \u001b[39m 3.2.1\n",
            "\u001b[32m✔\u001b[39m \u001b[34mpurrr    \u001b[39m 1.0.2     \u001b[32m✔\u001b[39m \u001b[34mtidyr    \u001b[39m 1.3.1\n",
            "\u001b[32m✔\u001b[39m \u001b[34mreadr    \u001b[39m 2.1.5     \n",
            "── \u001b[1mConflicts\u001b[22m ────────────────────────────────────────── tidyverse_conflicts() ──\n",
            "\u001b[31m✖\u001b[39m \u001b[34mpurrr\u001b[39m::\u001b[32m%||%()\u001b[39m   masks \u001b[34mbase\u001b[39m::%||%()\n",
            "\u001b[31m✖\u001b[39m \u001b[34mdplyr\u001b[39m::\u001b[32mfilter()\u001b[39m masks \u001b[34mstats\u001b[39m::filter()\n",
            "\u001b[31m✖\u001b[39m \u001b[34mdplyr\u001b[39m::\u001b[32mlag()\u001b[39m    masks \u001b[34mstats\u001b[39m::lag()\n",
            "\u001b[36mℹ\u001b[39m Use the conflicted package (\u001b[3m\u001b[34m<http://conflicted.r-lib.org/>\u001b[39m\u001b[23m) to force all conflicts to become errors\n"
          ]
        }
      ]
    },
    {
      "cell_type": "code",
      "source": [
        "# Creating a long format for ggplot2\n",
        "long_data <- pivot_longer(categories_analysis_actual, cols = c(\"Average_PriceBeforeSale\", \"Average_PriceAfterSale\", \"Price_Reduction_Percent\"), names_to = \"Measure\", values_to = \"Value\")\n",
        "\n",
        "ggplot(long_data, aes(x = Category, y = Value, fill = Measure)) +\n",
        "  geom_bar(stat = \"identity\", position = position_dodge(width = 0.9), color = \"black\", size = 0.1) +  # Set dodge width\n",
        "  geom_text(aes(label = round(Value, 2)), position = position_dodge(width = 0.9), vjust = -0.5, size = 3.5, color = \"white\") +  # Add text labels\n",
        "  scale_fill_manual(values = c(\"Average_PriceBeforeSale\" = \"darkred\", \"Average_PriceAfterSale\" = \"darkblue\", \"Price_Reduction_Percent\" = \"darkgreen\")) +\n",
        "  labs(title = \"Price Analysis\",\n",
        "       subtitle = \"Comparison of Prices Before/After Sale and % Reduction\",\n",
        "       x = \"Category\",\n",
        "       y = \"Value\",\n",
        "       fill = \"Measure\") +\n",
        "  theme_minimal(base_size = 14) +\n",
        "  theme(axis.text.x = element_text(angle = 0, hjust = 0.5, size = 12, vjust = 0.5),\n",
        "        axis.title = element_text(size = 14),\n",
        "        plot.title = element_text(size = 18, face = \"bold\", hjust = 0.5, color = \"navy\"),\n",
        "        plot.subtitle = element_text(size = 17, hjust = 0.5, color = \"darkred\"),\n",
        "        legend.position = \"bottom\",\n",
        "        legend.title = element_text(size = 12, face = \"bold\"),\n",
        "        legend.text = element_text(size = 10),\n",
        "        legend.background = element_rect(fill = \"white\", colour = \"black\", size = 0.5),\n",
        "        legend.key = element_rect(fill = \"white\", colour = \"black\")) +\n",
        "  theme(panel.grid.major = element_blank(), panel.grid.minor = element_blank(), panel.background = element_blank())\n",
        "\n"
      ],
      "metadata": {
        "colab": {
          "base_uri": "https://localhost:8080/",
          "height": 437
        },
        "id": "w2axpPSNYiA8",
        "outputId": "5588b8f7-ec6e-4eed-85b5-7637d480469c"
      },
      "execution_count": 20,
      "outputs": [
        {
          "output_type": "display_data",
          "data": {
            "text/plain": [
              "plot without title"
            ],
            "image/png": "[encoded data removed]"
          },
          "metadata": {
            "image/png": {
              "width": 420,
              "height": 420
            }
          }
        }
      ]
    },
    {
      "cell_type": "markdown",
      "source": [
        "The dataset comprises 62 entries for “Kurung Pahang” and 63 entries for “Kurung Moden”. For Kurung Moden, it started with an average price of RM 447 reducing to RM 268, marking a 40% reduction. This significant discount might be aimed at attracting customers seeking premium products at more accessible prices during sales. In contrast, for “Kurung Pahang”, the average price before sales was RM 351 and the average price after sale was RM 217. This category shows reduction of approximately 38.1%, suggesting a moderate discount strategy to maintain affordability while still valuing traditional design.\n",
        "\n",
        "\n",
        "The significant discounts on “Kurung Moden”, which generally has a higher base price, might be aimed at increasing the sales volume of these more expensive items. Higher priced items often have a lower turnover rate due to their cost, hence applying big discount can “Kurung Moden” more attractive, thus driving up sales. This strategy is particularly effective during seasonal sales when customers are more willing to spend on premium items if they perceive them as good deals. In contrast, “Kurung Pahang” receives smaller discounts, which suggest a strategy focused on sustaining steady sales volumes without the need for the big price cuts. This approach could be due to the perceived value of “Kurung Pahang” is traditionally high, and big discounts might undermine this perception, making this attire seem less premium.\n",
        "\n",
        "\n",
        "The analysis reveals distinct pricing strategies between \"Kurung Pahang\" and \"Kurung Moden \" at Rizman Ruzaini website. While both categories aim to leverage sales to boost purchases, \"Kurung Moden \" employs more aggressive discounting, possibly to target a different customer segment compared to the more traditionally priced \"Kurung Pahang\". This strategic differentiation in pricing and product offering highlights the brand’s approach to catering to diverse customer preferences, balancing between traditional values and modern fashion demands. Understanding these dynamics helps in predicting future trends and could guide the brand in tailoring their product and pricing strategies to better meet market demands.\n"
      ],
      "metadata": {
        "id": "MX2Hj34fcPL3"
      }
    }
  ]
}