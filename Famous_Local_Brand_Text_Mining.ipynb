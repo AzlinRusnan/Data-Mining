{
  "nbformat": 4,
  "nbformat_minor": 0,
  "metadata": {
    "colab": {
      "provenance": [],
      "authorship_tag": "ABX9TyNBd553rrFXhpakpvdWZgOd",
      "include_colab_link": true
    },
    "kernelspec": {
      "name": "python3",
      "display_name": "Python 3"
    },
    "language_info": {
      "name": "python"
    }
  },
  "cells": [
    {
      "cell_type": "markdown",
      "metadata": {
        "id": "view-in-github",
        "colab_type": "text"
      },
      "source": [
        "<a href=\"https://colab.research.google.com/github/AzlinRusnan/Data-Mining/blob/main/Famous_Local_Brand_Text_Mining.ipynb\" target=\"_parent\"><img src=\"https://colab.research.google.com/assets/colab-badge.svg\" alt=\"Open In Colab\"/></a>"
      ]
    },
    {
      "cell_type": "code",
      "execution_count": 7,
      "metadata": {
        "id": "4ySDnolNSUx0"
      },
      "outputs": [],
      "source": [
        "library(rvest)\n",
        "library(dplyr)\n",
        "library(stringr)"
      ]
    },
    {
      "cell_type": "code",
      "source": [
        "pages <- paste0('https://www.rrbyrizmanruzaini.com/collections/rr-womenswear?page=', 0:2)"
      ],
      "metadata": {
        "id": "agZGkTudTBGF"
      },
      "execution_count": 3,
      "outputs": []
    },
    {
      "cell_type": "code",
      "source": [
        "# Function to determine the category based on the product name\n",
        "get_category <- function(product_name) {\n",
        "  if (grepl(\"Kurung Pahang\", product_name)) {\n",
        "    \"Kurung Pahang\"\n",
        "  } else if (grepl(\"Kurung Modern\", product_name)) {\n",
        "    \"Kurung Moden\"\n",
        "  } else if (grepl(\"Kurung Kedah\", product_name)) {\n",
        "    \"Kurung Kedah\"\n",
        "  } else if (grepl(\"Set Basic\", product_name)) {\n",
        "    \"Set Basic\"\n",
        "  } else {\n",
        "    \"Other\"\n",
        "  }\n",
        "}"
      ],
      "metadata": {
        "id": "RMXA_DidTD8s"
      },
      "execution_count": 4,
      "outputs": []
    },
    {
      "cell_type": "code",
      "source": [
        "# Function to scrape product names, before sale prices, and after sale prices\n",
        "Price <- function(page) {\n",
        "  url <- read_html(page)\n",
        "\n",
        "  # Extracting product names\n",
        "  product_nodes <- html_nodes(url, '.grid-product__title') # Adjust if needed\n",
        "  products <- html_text(product_nodes, trim = TRUE)\n",
        "\n",
        "  # Extracting prices\n",
        "  price_nodes <- html_nodes(url, '.grid-product__price')\n",
        "  prices <- html_text(price_nodes, trim = TRUE)\n",
        "\n",
        "  # Clean and extract before and after sale prices\n",
        "  prices_before_sale <- sapply(prices, function(x) {\n",
        "    if (grepl(\"Regular price\", x)) {\n",
        "      sub(\"Regular price\\\\s+RM\\\\s*\", \"\", str_extract(x, \"Regular price\\\\s+RM\\\\s*[0-9,.]+\"))\n",
        "    } else {\n",
        "      NA\n",
        "    }\n",
        "  })\n",
        "  prices_after_sale <- sapply(prices, function(x) {\n",
        "    if (grepl(\"Sale price\", x)) {\n",
        "      sub(\"Sale priceRM\\\\s*\", \"\", str_extract(x, \"Sale priceRM\\\\s*[0-9,.]+\"))\n",
        "    } else {\n",
        "      NA\n",
        "    }\n",
        "  })\n",
        "\n",
        "  # Determining the category for each product\n",
        "  categories <- sapply(products, get_category)\n",
        "\n",
        "  # Create a dataframe\n",
        "  data_frame(Product = products, PriceBeforeSale = prices_before_sale, PriceAfterSale = prices_after_sale, Category = categories)\n",
        "}"
      ],
      "metadata": {
        "id": "IHXyJzUkTKrd"
      },
      "execution_count": 5,
      "outputs": []
    },
    {
      "cell_type": "code",
      "source": [
        "# Apply the function to each page and combine the results\n",
        "product_data <- do.call(rbind, lapply(pages, Price))\n",
        "head(product_data)"
      ],
      "metadata": {
        "colab": {
          "base_uri": "https://localhost:8080/",
          "height": 286
        },
        "id": "XW94XECnTMt8",
        "outputId": "801444d2-ddfa-41a4-b074-c6a2d7e01ded"
      },
      "execution_count": 9,
      "outputs": [
        {
          "output_type": "display_data",
          "data": {
            "text/html": [
              "<table class=\"dataframe\">\n",
              "<caption>A tibble: 6 × 4</caption>\n",
              "<thead>\n",
              "\t<tr><th scope=col>Product</th><th scope=col>PriceBeforeSale</th><th scope=col>PriceAfterSale</th><th scope=col>Category</th></tr>\n",
              "\t<tr><th scope=col>&lt;chr&gt;</th><th scope=col>&lt;chr&gt;</th><th scope=col>&lt;chr&gt;</th><th scope=col>&lt;chr&gt;</th></tr>\n",
              "</thead>\n",
              "<tbody>\n",
              "\t<tr><td>RR Baju Kurung Pahang Songket in Navy Silver   </td><td>399.00</td><td>239.40</td><td>Kurung Pahang</td></tr>\n",
              "\t<tr><td>RR Baju Kurung Pahang Songket in Brown Black   </td><td>399.00</td><td>239.40</td><td>Kurung Pahang</td></tr>\n",
              "\t<tr><td>RR Baju Kurung Pahang Songket in Black Gold    </td><td>399.00</td><td>239.40</td><td>Kurung Pahang</td></tr>\n",
              "\t<tr><td>RR Baju Kurung Pahang Forest in Green          </td><td>399.00</td><td>239.40</td><td>Kurung Pahang</td></tr>\n",
              "\t<tr><td>RR Baju Kurung Pahang Forest in Brown          </td><td>399.00</td><td>239.40</td><td>Kurung Pahang</td></tr>\n",
              "\t<tr><td>RR Baju Kurung Modern Pleated Ivy in Light Blue</td><td>439.00</td><td>263.40</td><td>Kurung Moden </td></tr>\n",
              "</tbody>\n",
              "</table>\n"
            ],
            "text/markdown": "\nA tibble: 6 × 4\n\n| Product &lt;chr&gt; | PriceBeforeSale &lt;chr&gt; | PriceAfterSale &lt;chr&gt; | Category &lt;chr&gt; |\n|---|---|---|---|\n| RR Baju Kurung Pahang Songket in Navy Silver    | 399.00 | 239.40 | Kurung Pahang |\n| RR Baju Kurung Pahang Songket in Brown Black    | 399.00 | 239.40 | Kurung Pahang |\n| RR Baju Kurung Pahang Songket in Black Gold     | 399.00 | 239.40 | Kurung Pahang |\n| RR Baju Kurung Pahang Forest in Green           | 399.00 | 239.40 | Kurung Pahang |\n| RR Baju Kurung Pahang Forest in Brown           | 399.00 | 239.40 | Kurung Pahang |\n| RR Baju Kurung Modern Pleated Ivy in Light Blue | 439.00 | 263.40 | Kurung Moden  |\n\n",
            "text/latex": "A tibble: 6 × 4\n\\begin{tabular}{llll}\n Product & PriceBeforeSale & PriceAfterSale & Category\\\\\n <chr> & <chr> & <chr> & <chr>\\\\\n\\hline\n\t RR Baju Kurung Pahang Songket in Navy Silver    & 399.00 & 239.40 & Kurung Pahang\\\\\n\t RR Baju Kurung Pahang Songket in Brown Black    & 399.00 & 239.40 & Kurung Pahang\\\\\n\t RR Baju Kurung Pahang Songket in Black Gold     & 399.00 & 239.40 & Kurung Pahang\\\\\n\t RR Baju Kurung Pahang Forest in Green           & 399.00 & 239.40 & Kurung Pahang\\\\\n\t RR Baju Kurung Pahang Forest in Brown           & 399.00 & 239.40 & Kurung Pahang\\\\\n\t RR Baju Kurung Modern Pleated Ivy in Light Blue & 439.00 & 263.40 & Kurung Moden \\\\\n\\end{tabular}\n",
            "text/plain": [
              "                                                Product                                        \n",
              "RR Baju Kurung Pahang Songket in Navy Silver    RR Baju Kurung Pahang Songket in Navy Silver   \n",
              "RR Baju Kurung Pahang Songket in Brown Black    RR Baju Kurung Pahang Songket in Brown Black   \n",
              "RR Baju Kurung Pahang Songket in Black Gold     RR Baju Kurung Pahang Songket in Black Gold    \n",
              "RR Baju Kurung Pahang Forest in Green           RR Baju Kurung Pahang Forest in Green          \n",
              "RR Baju Kurung Pahang Forest in Brown           RR Baju Kurung Pahang Forest in Brown          \n",
              "RR Baju Kurung Modern Pleated Ivy in Light Blue RR Baju Kurung Modern Pleated Ivy in Light Blue\n",
              "                                                PriceBeforeSale PriceAfterSale\n",
              "RR Baju Kurung Pahang Songket in Navy Silver    399.00          239.40        \n",
              "RR Baju Kurung Pahang Songket in Brown Black    399.00          239.40        \n",
              "RR Baju Kurung Pahang Songket in Black Gold     399.00          239.40        \n",
              "RR Baju Kurung Pahang Forest in Green           399.00          239.40        \n",
              "RR Baju Kurung Pahang Forest in Brown           399.00          239.40        \n",
              "RR Baju Kurung Modern Pleated Ivy in Light Blue 439.00          263.40        \n",
              "                                                Category     \n",
              "RR Baju Kurung Pahang Songket in Navy Silver    Kurung Pahang\n",
              "RR Baju Kurung Pahang Songket in Brown Black    Kurung Pahang\n",
              "RR Baju Kurung Pahang Songket in Black Gold     Kurung Pahang\n",
              "RR Baju Kurung Pahang Forest in Green           Kurung Pahang\n",
              "RR Baju Kurung Pahang Forest in Brown           Kurung Pahang\n",
              "RR Baju Kurung Modern Pleated Ivy in Light Blue Kurung Moden "
            ]
          },
          "metadata": {}
        }
      ]
    },
    {
      "cell_type": "code",
      "source": [
        "library(dplyr)\n",
        "library(ggplot2)\n",
        "library(RColorBrewer)"
      ],
      "metadata": {
        "id": "dZDz6RC_TocR"
      },
      "execution_count": 10,
      "outputs": []
    },
    {
      "cell_type": "code",
      "source": [
        "from google.colab import files\n",
        "uploaded = files.upload()"
      ],
      "metadata": {
        "id": "CtSrYVHYV-ib"
      },
      "execution_count": null,
      "outputs": []
    },
    {
      "cell_type": "code",
      "source": [
        "product <- read.csv(file.choose())\n",
        "str(product)\n",
        "summary(product)"
      ],
      "metadata": {
        "id": "AkkMNC82Uf0m"
      },
      "execution_count": null,
      "outputs": []
    },
    {
      "cell_type": "code",
      "source": [
        "##################################################\n",
        "        ## Analysis by Category ##\n",
        "##################################################\n",
        "categories_analysis_actual <- product_data %>%\n",
        "  filter(Category %in% c('Kurung Pahang', 'Kurung Moden')) %>%\n",
        "  group_by(Category) %>%\n",
        "  summarise(\n",
        "    Count = n(),\n",
        "    Average_PriceBeforeSale = mean(PriceBeforeSale, na.rm = TRUE),\n",
        "    Average_PriceAfterSale = mean(PriceAfterSale, na.rm = TRUE)\n",
        "  ) %>%\n",
        "  arrange(desc(Count))\n",
        "\n",
        "# Calculating the price reduction percentage\n",
        "categories_analysis_actual$Price_Reduction_Percent <- round(\n",
        "  (1 - (categories_analysis_actual$Average_PriceAfterSale / categories_analysis_actual$Average_PriceBeforeSale)) * 100, 2)\n",
        "\n",
        "head(categories_analysis_actual)\n"
      ],
      "metadata": {
        "colab": {
          "base_uri": "https://localhost:8080/",
          "height": 299
        },
        "id": "z_UTrPxfTuK5",
        "outputId": "9ec7998c-3f1c-4eff-9ca4-0239ddf3cf22"
      },
      "execution_count": 12,
      "outputs": [
        {
          "output_type": "stream",
          "name": "stderr",
          "text": [
            "Warning message:\n",
            "“\u001b[1m\u001b[22mThere were 4 warnings in `summarise()`.\n",
            "The first warning was:\n",
            "\u001b[1m\u001b[22m\u001b[36mℹ\u001b[39m In argument: `Average_PriceBeforeSale = mean(PriceBeforeSale, na.rm = TRUE)`.\n",
            "\u001b[36mℹ\u001b[39m In group 1: `Category = \"Kurung Moden\"`.\n",
            "Caused by warning in `mean.default()`:\n",
            "\u001b[33m!\u001b[39m argument is not numeric or logical: returning NA\n",
            "\u001b[1m\u001b[22m\u001b[36mℹ\u001b[39m Run `dplyr::last_dplyr_warnings()` to see the 3 remaining warnings.”\n"
          ]
        },
        {
          "output_type": "display_data",
          "data": {
            "text/html": [
              "<table class=\"dataframe\">\n",
              "<caption>A tibble: 2 × 5</caption>\n",
              "<thead>\n",
              "\t<tr><th scope=col>Category</th><th scope=col>Count</th><th scope=col>Average_PriceBeforeSale</th><th scope=col>Average_PriceAfterSale</th><th scope=col>Price_Reduction_Percent</th></tr>\n",
              "\t<tr><th scope=col>&lt;chr&gt;</th><th scope=col>&lt;int&gt;</th><th scope=col>&lt;dbl&gt;</th><th scope=col>&lt;dbl&gt;</th><th scope=col>&lt;dbl&gt;</th></tr>\n",
              "</thead>\n",
              "<tbody>\n",
              "\t<tr><td>Kurung Moden </td><td>63</td><td>NA</td><td>NA</td><td>NA</td></tr>\n",
              "\t<tr><td>Kurung Pahang</td><td>62</td><td>NA</td><td>NA</td><td>NA</td></tr>\n",
              "</tbody>\n",
              "</table>\n"
            ],
            "text/markdown": "\nA tibble: 2 × 5\n\n| Category &lt;chr&gt; | Count &lt;int&gt; | Average_PriceBeforeSale &lt;dbl&gt; | Average_PriceAfterSale &lt;dbl&gt; | Price_Reduction_Percent &lt;dbl&gt; |\n|---|---|---|---|---|\n| Kurung Moden  | 63 | NA | NA | NA |\n| Kurung Pahang | 62 | NA | NA | NA |\n\n",
            "text/latex": "A tibble: 2 × 5\n\\begin{tabular}{lllll}\n Category & Count & Average\\_PriceBeforeSale & Average\\_PriceAfterSale & Price\\_Reduction\\_Percent\\\\\n <chr> & <int> & <dbl> & <dbl> & <dbl>\\\\\n\\hline\n\t Kurung Moden  & 63 & NA & NA & NA\\\\\n\t Kurung Pahang & 62 & NA & NA & NA\\\\\n\\end{tabular}\n",
            "text/plain": [
              "                                                Category      Count\n",
              "RR Baju Kurung Modern Pleated Ivy in Light Blue Kurung Moden  63   \n",
              "RR Baju Kurung Pahang Songket in Navy Silver    Kurung Pahang 62   \n",
              "                                                Average_PriceBeforeSale\n",
              "RR Baju Kurung Modern Pleated Ivy in Light Blue NA                     \n",
              "RR Baju Kurung Pahang Songket in Navy Silver    NA                     \n",
              "                                                Average_PriceAfterSale\n",
              "RR Baju Kurung Modern Pleated Ivy in Light Blue NA                    \n",
              "RR Baju Kurung Pahang Songket in Navy Silver    NA                    \n",
              "                                                Price_Reduction_Percent\n",
              "RR Baju Kurung Modern Pleated Ivy in Light Blue NA                     \n",
              "RR Baju Kurung Pahang Songket in Navy Silver    NA                     "
            ]
          },
          "metadata": {}
        }
      ]
    }
  ]
}